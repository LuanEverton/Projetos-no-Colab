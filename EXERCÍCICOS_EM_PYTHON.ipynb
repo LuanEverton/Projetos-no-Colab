{
  "nbformat": 4,
  "nbformat_minor": 0,
  "metadata": {
    "colab": {
      "provenance": [],
      "toc_visible": true,
      "authorship_tag": "ABX9TyPTFKFLa5eaRm+w4ovd1dhm",
      "include_colab_link": true
    },
    "kernelspec": {
      "name": "python3",
      "display_name": "Python 3"
    },
    "language_info": {
      "name": "python"
    }
  },
  "cells": [
    {
      "cell_type": "markdown",
      "metadata": {
        "id": "view-in-github",
        "colab_type": "text"
      },
      "source": [
        "<a href=\"https://colab.research.google.com/github/LuanEverton/Projetos-no-Colab/blob/main/EXERC%C3%8DCICOS_EM_PYTHON.ipynb\" target=\"_parent\"><img src=\"https://colab.research.google.com/assets/colab-badge.svg\" alt=\"Open In Colab\"/></a>"
      ]
    },
    {
      "cell_type": "markdown",
      "source": [
        "Olá, Mundo!\n",
        "\n",
        "Descrição: Escreva um programa que imprime \"Olá, Mundo!\" na tela.\n",
        "Conceitos: Sintaxe básica, função print().\n"
      ],
      "metadata": {
        "id": "ajeyb5JjNctJ"
      }
    },
    {
      "cell_type": "code",
      "source": [
        "print(\"Olá Mundo!!\")"
      ],
      "metadata": {
        "colab": {
          "base_uri": "https://localhost:8080/"
        },
        "id": "eTXB3o3vNhm2",
        "outputId": "0be84ecc-61bf-4f62-f519-b48c79c68255"
      },
      "execution_count": null,
      "outputs": [
        {
          "output_type": "stream",
          "name": "stdout",
          "text": [
            "Olá Mundo!!\n"
          ]
        }
      ]
    },
    {
      "cell_type": "markdown",
      "source": [
        "Soma de Dois Números\n",
        "\n",
        "Descrição: Peça ao usuário para inserir dois números e exiba a soma deles.\n",
        "Conceitos: Entrada de dados com input(), conversão de tipos (int ou float), operações aritméticas.\n"
      ],
      "metadata": {
        "id": "3_LoDk1BNsbO"
      }
    },
    {
      "cell_type": "code",
      "source": [
        "n1 = input('Escreva o primeiro numero: ')"
      ],
      "metadata": {
        "colab": {
          "base_uri": "https://localhost:8080/"
        },
        "id": "PUYFdnxRNuCn",
        "outputId": "570f129b-6b55-4fd9-d21e-df4ef851acdb"
      },
      "execution_count": null,
      "outputs": [
        {
          "name": "stdout",
          "output_type": "stream",
          "text": [
            "Escreva o primeiro numero: 8\n"
          ]
        }
      ]
    },
    {
      "cell_type": "code",
      "source": [
        "n2 =  input('Escreva o segundo número: ')"
      ],
      "metadata": {
        "colab": {
          "base_uri": "https://localhost:8080/"
        },
        "id": "ntBl6OSIN9Pu",
        "outputId": "1492f51a-8503-464f-e082-e23ecb7e056d"
      },
      "execution_count": null,
      "outputs": [
        {
          "name": "stdout",
          "output_type": "stream",
          "text": [
            "Escreva o segundo número: 10\n"
          ]
        }
      ]
    },
    {
      "cell_type": "code",
      "source": [
        "\n",
        "if \".\" in n1 and \".\" in n2:\n",
        "  n1 = float(n1)\n",
        "  n2 = float(n2)\n",
        "else:\n",
        "  n1 = int(n1)\n",
        "  n2 = int(n2)\n",
        "soma = n1 + n2\n",
        "print('A soma de {} e {} é {:.2f}'.format(n1, n2, soma))"
      ],
      "metadata": {
        "colab": {
          "base_uri": "https://localhost:8080/"
        },
        "id": "3Aotw7xmOGiu",
        "outputId": "b8b756ec-6121-44ca-97f7-86ddd61a5cf4"
      },
      "execution_count": null,
      "outputs": [
        {
          "output_type": "stream",
          "name": "stdout",
          "text": [
            "A soma de 8 e 10 é 18.00\n"
          ]
        }
      ]
    },
    {
      "cell_type": "markdown",
      "source": [
        "Verificar Par ou Ímpar\n",
        "\n",
        "Descrição: Receba um número do usuário e determine se ele é par ou ímpar.\n",
        "Conceitos: Operadores condicionais (if, else), operadores modulus %.\n"
      ],
      "metadata": {
        "id": "FrZDphOYY45c"
      }
    },
    {
      "cell_type": "code",
      "source": [
        "numero = input('Digite um número: ')\n"
      ],
      "metadata": {
        "colab": {
          "base_uri": "https://localhost:8080/"
        },
        "id": "EFP0VGx7Y9Hu",
        "outputId": "a44166fb-31a1-4d78-d1b6-dd15db99c1af"
      },
      "execution_count": null,
      "outputs": [
        {
          "name": "stdout",
          "output_type": "stream",
          "text": [
            "Digite um número: 865\n"
          ]
        }
      ]
    },
    {
      "cell_type": "code",
      "source": [
        "numero = int(numero)\n",
        "if numero % 2 == 0:\n",
        "  print('O numero {} é par'.format(numero))\n",
        "else:\n",
        "  print('O numero {} é impar'.format(numero))"
      ],
      "metadata": {
        "colab": {
          "base_uri": "https://localhost:8080/"
        },
        "id": "mvaTJmQAZ1fZ",
        "outputId": "9d545020-d08a-4d90-d764-21b6076281b0"
      },
      "execution_count": null,
      "outputs": [
        {
          "output_type": "stream",
          "name": "stdout",
          "text": [
            "O numero 865 é impar\n"
          ]
        }
      ]
    },
    {
      "cell_type": "markdown",
      "source": [
        "Calculadora Simples\n",
        "\n",
        "Descrição: Crie uma calculadora que realiza operações de soma, subtração, multiplicação e divisão com base na escolha do usuário.\n",
        "Conceitos: Condicionais, funções básicas.\n"
      ],
      "metadata": {
        "id": "RmSm4h2XaiyX"
      }
    },
    {
      "cell_type": "code",
      "source": [
        "while True:\n",
        "    try:\n",
        "      operacao = int(input(\"\"\"Qual Operação você deseja fazer?\n",
        "                    [1] soma\n",
        "                    [2] subtração\n",
        "                    [3] multiplacação\n",
        "                    [4] divisão\n",
        "                    \"\"\"))\n",
        "      if operacao not in [1,2,3,4]:\n",
        "        print('Digite um valor válido!')\n",
        "        continue\n",
        "      break\n",
        "    except ValueError:\n",
        "      print('Digite um valor válido!!')\n",
        "\n",
        "\n",
        "try:\n",
        "    n1 = input('Digite o Primeiro número: ')\n",
        "    n2 = input('Digite o segundo numero: ')\n",
        "\n",
        "    if \".\" in n1:\n",
        "        n1 = float(n1)\n",
        "    else:\n",
        "        n1 = int(n1)\n",
        "\n",
        "    if \".\" in n2:\n",
        "        n2 = float(n2)\n",
        "    else:\n",
        "        n2 = int(n2)\n",
        "except ValueError:\n",
        "    print('Digite um valor válido!')\n",
        "try:\n",
        "  if operacao == 1:\n",
        "    resultado = n1 + n2\n",
        "    print('A SOMA de {} e {} é {}'.format(n1, n2, resultado))\n",
        "  elif operacao == 2:\n",
        "    resultado = n1 - n2\n",
        "    print('A SUBTRAÇÂO de {} e {} é {}'.format(n1, n2, resultado))\n",
        "  elif operacao == 3:\n",
        "    resultado = n1 * n2\n",
        "    print('{} multiplicado por {} é {}'.format(n1, n2, resultado))\n",
        "  elif operacao == 4:\n",
        "    resultado = n1 / n2\n",
        "    print('A DIVISÂO do numero {} por {} é {}'.format(n1, n2, resultado))\n",
        "except TypeError:\n",
        "  print('Você não digitou um valor válido para fazer uma operação')"
      ],
      "metadata": {
        "id": "cVlo4mt2iP9P"
      },
      "execution_count": null,
      "outputs": []
    },
    {
      "cell_type": "markdown",
      "source": [
        "Fatorial de um Número\n",
        "\n",
        "Descrição: Calcule o fatorial de um número fornecido pelo usuário.\n",
        "Conceitos: Laços de repetição (for, while), funções."
      ],
      "metadata": {
        "id": "3PqibK18gpPn"
      }
    },
    {
      "cell_type": "code",
      "source": [
        "while True:\n",
        "    try:\n",
        "      numero = input('Digite o numero que deseja fatorar: ')\n",
        "\n",
        "      if \".\" in numero:\n",
        "        numero = float(numero)\n",
        "      else:\n",
        "        numero = int(numero)\n",
        "    except ValueError:\n",
        "      print('Digite um valor válido!')\n",
        "      continue\n",
        "    break"
      ],
      "metadata": {
        "colab": {
          "base_uri": "https://localhost:8080/"
        },
        "id": "a9SQSkLkgqeT",
        "outputId": "cab5c42a-9cc3-4b2c-8a3b-ae18ae67c3ae"
      },
      "execution_count": null,
      "outputs": [
        {
          "name": "stdout",
          "output_type": "stream",
          "text": [
            "Digite o numero que deseja fatorar: 10\n"
          ]
        }
      ]
    },
    {
      "cell_type": "code",
      "source": [
        "def fatorial(n):\n",
        "  if n == 0:\n",
        "    print('0 não é fatoravel! ')\n",
        "    return 1\n",
        "  else:\n",
        "    fat = 1\n",
        "    for i in range(2, n + 1 ):\n",
        "      fat *= i\n",
        "      i += 1\n",
        "    return fat"
      ],
      "metadata": {
        "id": "4jrlPDXxwTKH"
      },
      "execution_count": null,
      "outputs": []
    },
    {
      "cell_type": "code",
      "source": [
        "print('O fatoria {} é {}'.format(numero, fatorial(numero)))"
      ],
      "metadata": {
        "id": "AjfnB861TnZv"
      },
      "execution_count": null,
      "outputs": []
    },
    {
      "cell_type": "markdown",
      "source": [
        "Números Primos\n",
        "\n",
        "Descrição: Verifique se um número inserido pelo usuário é primo.\n",
        "Conceitos: Laços, condicionais, eficiência de algoritmos.\n",
        "\n"
      ],
      "metadata": {
        "id": "cTup29ZEaajV"
      }
    },
    {
      "cell_type": "code",
      "source": [
        "try:\n",
        "  numero = int(input('Digite um numero: '))\n",
        "except ValueError:\n",
        "  print('Digite um valor válido!')\n"
      ],
      "metadata": {
        "colab": {
          "base_uri": "https://localhost:8080/"
        },
        "id": "PzWcAw3qadCd",
        "outputId": "6cdda80f-9039-478e-efc4-e06578439d19"
      },
      "execution_count": null,
      "outputs": [
        {
          "name": "stdout",
          "output_type": "stream",
          "text": [
            "Digite um numero: 3\n"
          ]
        }
      ]
    },
    {
      "cell_type": "code",
      "source": [
        "if numero <= 1:\n",
        "  print('O numero {} não pode ser primo'.format(numero))\n",
        "else:\n",
        "  for i in range(2, numero):\n",
        "    print('i = {}'.format(i))\n",
        "    if numero % i == 0:\n",
        "      print('O numero {} não é primo'.format(numero))\n",
        "      break\n",
        "  else:\n",
        "    print('O numero {} é primo'.format(numero))"
      ],
      "metadata": {
        "colab": {
          "base_uri": "https://localhost:8080/"
        },
        "id": "ZyJByBWlVO0W",
        "outputId": "a56afb7b-6fda-454f-84a6-53c8c6a1eec2"
      },
      "execution_count": null,
      "outputs": [
        {
          "output_type": "stream",
          "name": "stdout",
          "text": [
            "i = 2\n",
            "O numero 3 é primo\n"
          ]
        }
      ]
    },
    {
      "cell_type": "markdown",
      "source": [
        "Manipulação de Listas\n",
        "\n",
        "Descrição: Crie uma lista com vários elementos e permita que o usuário adicione, remova ou visualize os elementos da lista.\n",
        "Conceitos: Listas, métodos de listas (append, remove, etc.), interações com o usuário.\n",
        "\n"
      ],
      "metadata": {
        "id": "v5JOclgr3abP"
      }
    },
    {
      "cell_type": "code",
      "source": [
        "elementos = []"
      ],
      "metadata": {
        "id": "Pm-DBxNQ3bxH"
      },
      "execution_count": null,
      "outputs": []
    },
    {
      "cell_type": "code",
      "source": [],
      "metadata": {
        "id": "8zE88pzzMGbd"
      },
      "execution_count": null,
      "outputs": []
    }
  ]
}