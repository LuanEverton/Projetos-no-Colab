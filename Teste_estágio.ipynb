{
  "nbformat": 4,
  "nbformat_minor": 0,
  "metadata": {
    "colab": {
      "provenance": []
    },
    "kernelspec": {
      "name": "python3",
      "display_name": "Python 3"
    },
    "language_info": {
      "name": "python"
    }
  },
  "cells": [
    {
      "cell_type": "markdown",
      "source": [
        "1) Observe o trecho de código abaixo: int INDICE = 13, SOMA = 0, K = 0;\n",
        "Enquanto K < INDICE faça { K = K + 1; SOMA = SOMA + K; }\n",
        "Imprimir(SOMA);\n",
        "Ao final do processamento, qual será o valor da variável SOMA?\n",
        "\n"
      ],
      "metadata": {
        "id": "EZQ6uziNoEN2"
      }
    },
    {
      "cell_type": "code",
      "source": [
        "indice = 13\n",
        "soma  = 0\n",
        "k = 0\n",
        "\n",
        "while k < indice:\n",
        "  k = k + 1\n",
        "  soma = soma + k\n",
        "\n",
        "print(soma)"
      ],
      "metadata": {
        "colab": {
          "base_uri": "https://localhost:8080/"
        },
        "id": "rLZrHiSyoFqt",
        "outputId": "2c1e9ac0-68ce-4719-9637-be756dd61da9"
      },
      "execution_count": 1,
      "outputs": [
        {
          "output_type": "stream",
          "name": "stdout",
          "text": [
            "91\n"
          ]
        }
      ]
    },
    {
      "cell_type": "markdown",
      "source": [
        "2) Dado a sequência de Fibonacci, onde se inicia por 0 e 1 e o próximo valor sempre será a soma dos 2 valores anteriores (exemplo: 0, 1, 1, 2, 3, 5, 8, 13, 21, 34...), escreva um programa na linguagem que desejar onde, informado um número, ele calcule a sequência de Fibonacci e retorne uma mensagem avisando se o número informado pertence ou não a sequência."
      ],
      "metadata": {
        "id": "wIpwk-8-oxbR"
      }
    },
    {
      "cell_type": "code",
      "source": [
        "try:\n",
        "  numero = int(input(\"Escreva um numero: \")) #utilizei o 'int' porque somentes numeros inteiros podem ser fibonacci.\n",
        "except ValueError:\n",
        "  print('Você não digitou um valor válido!!')"
      ],
      "metadata": {
        "colab": {
          "base_uri": "https://localhost:8080/"
        },
        "id": "7gGwro-no0U4",
        "outputId": "519fce99-855b-4469-81dd-5a03f17a6655"
      },
      "execution_count": 9,
      "outputs": [
        {
          "name": "stdout",
          "output_type": "stream",
          "text": [
            "Escreva um numero: 4\n"
          ]
        }
      ]
    },
    {
      "cell_type": "code",
      "source": [
        "n1 = 0                                                  # essa é a forma de fazer sem usar função\n",
        "n2 = 1\n",
        "while n1 <= numero:\n",
        "  n1, n2 = n2, n1 + n2 # essa é a fomula utilizada na programação para fazer uma sequencia Fibonacci\n",
        "  if n1 and n2 == numero:\n",
        "    print('O numero {} pertence a sequencia de Fibonacci'.format(numero))\n",
        "\n",
        "  elif n1 < numero and n2 > numero:\n",
        "    print('O numero {} não pertence a sequencia de Fibonacci'.format(numero))\n",
        "    break\n",
        "\n",
        ""
      ],
      "metadata": {
        "id": "povjDFIBqB5-"
      },
      "execution_count": null,
      "outputs": []
    },
    {
      "cell_type": "markdown",
      "source": [
        "Código da Sequencia Fibonacci utilizando FUNÇÕES."
      ],
      "metadata": {
        "id": "RmtImncVvZhH"
      }
    },
    {
      "cell_type": "code",
      "source": [
        "try:\n",
        "  numero = int(input(\"Escreva um numero: \")) #utilizei o 'int' porque somentes numeros inteiros podem ser fibonacci.\n",
        "except ValueError:\n",
        "  print('Você não digitou um valor válido!!')"
      ],
      "metadata": {
        "id": "Y-L4Fvsmvhru"
      },
      "execution_count": null,
      "outputs": []
    },
    {
      "cell_type": "code",
      "source": [
        "def fibonacci(numero):\n",
        "  n1 = 0\n",
        "  n2 = 0\n",
        "  while n1 <= numero:\n",
        "    n1, n2 = n2, n1 + n2\n",
        "    return True"
      ],
      "metadata": {
        "id": "ICKCcf1Zvnvv"
      },
      "execution_count": 14,
      "outputs": []
    },
    {
      "cell_type": "code",
      "source": [
        "if fibonacci(numero) is True:\n",
        "  print('O numero {} pertence a sequência Fibonacci'.format(numero))\n",
        "\n",
        "else:\n",
        "  print('O numero {} não pertence a sequência Fibonacci'.format(numero))\n"
      ],
      "metadata": {
        "id": "9PAUwa3OwXQf"
      },
      "execution_count": null,
      "outputs": []
    },
    {
      "cell_type": "markdown",
      "source": [
        "3) Dado um vetor que guarda o valor de faturamento diário de uma distribuidora, faça um programa, na linguagem que desejar, que calcule e retorne:\n",
        "• O menor valor de faturamento ocorrido em um dia do mês;\n",
        "• O maior valor de faturamento ocorrido em um dia do mês;\n",
        "• Número de dias no mês em que o valor de faturamento diário foi superior à média mensal.\n",
        "\n",
        "IMPORTANTE:\n",
        "a) Usar o json ou xml disponível como fonte dos dados do faturamento mensal;\n",
        "b) Podem existir dias sem faturamento, como nos finais de semana e feriados. Estes dias devem ser ignorados no cálculo da média;\n",
        "\n",
        "\n"
      ],
      "metadata": {
        "id": "AatyJYtax_5Q"
      }
    },
    {
      "cell_type": "code",
      "source": [
        "import json\n",
        "\n",
        "with open('dados.json', encoding='utf-8') as meu_json: #abrindo o relatótio de faturamento.\n",
        "  dados = json.load(meu_json)\n",
        "\n"
      ],
      "metadata": {
        "id": "51tQfnMLyBeH"
      },
      "execution_count": null,
      "outputs": []
    },
    {
      "cell_type": "code",
      "source": [
        "dados_validos= [] #adicioando dados válidos na lista\n",
        "\n",
        "for i in dados:\n",
        "  if i['valor'] != 0: #levando em conta que dentro do relatório será divido em 'dia' e 'valor'.\n",
        "    dados_validos.append(i)"
      ],
      "metadata": {
        "id": "EY-XIPyb4HhT"
      },
      "execution_count": null,
      "outputs": []
    },
    {
      "cell_type": "code",
      "source": [
        "menor_valor_mes = min(dados_validos, key=lambda dados_validos: dados_validos['valor']) #a utilização da função key=lambda para que a função min() compare somente os valores da chave 'valor'\n",
        "print('{} é o menor valor do mês'.format(menor_valor_mes['valor']))\n",
        "\n",
        "maior_valor_mes = max(dados_validos, key=lambda dados_validos: dados_validos['valor'])\n",
        "print('{} é o maior valor do mês'.format(maior_valor_mes['valor']))\n",
        "\n",
        "media_mensal = sum([i['valor'] for i in dados_validos]) / len(dados_validos)\n",
        "print('A média mensal é de {}'.format(media_mensal))"
      ],
      "metadata": {
        "id": "xhfsNNE77IXE"
      },
      "execution_count": null,
      "outputs": []
    },
    {
      "cell_type": "markdown",
      "source": [
        "4) Dado o valor de faturamento mensal de uma distribuidora, detalhado por estado:\n",
        "• SP – R$67.836,43\n",
        "• RJ – R$36.678,66\n",
        "• MG – R$29.229,88\n",
        "• ES – R$27.165,48\n",
        "• Outros – R$19.849,53\n",
        "Escreva um programa na linguagem que desejar onde calcule o percentual de representação que cada estado teve dentro do valor total mensal da distribuidora.\n"
      ],
      "metadata": {
        "id": "r0dHmhHvJErH"
      }
    },
    {
      "cell_type": "code",
      "source": [
        "valores = {\n",
        "    'SP': 67836.43,\n",
        "    'RJ': 36678.66,\n",
        "    'MG': 29229.88,\n",
        "    'ES': 27165.48,\n",
        "    'Outros': 19849.53\n",
        "} # criando uma lista fica mais fácil resolver o problema"
      ],
      "metadata": {
        "id": "61JANuBHJHj0"
      },
      "execution_count": 47,
      "outputs": []
    },
    {
      "cell_type": "code",
      "source": [
        "total_valores = sum(valores.values())\n",
        "print('O total mensal é de {}'.format(total_valores))"
      ],
      "metadata": {
        "colab": {
          "base_uri": "https://localhost:8080/"
        },
        "id": "nXYG3EJrNJDA",
        "outputId": "d7e96075-9c1c-420c-dc1a-7b9b46b418cd"
      },
      "execution_count": 48,
      "outputs": [
        {
          "output_type": "stream",
          "name": "stdout",
          "text": [
            "O total mensal é de 180759.98\n"
          ]
        }
      ]
    },
    {
      "cell_type": "code",
      "source": [
        "for estado, valor in valores.items(): # a função itens() para trazer cada par de chave:valor da lista\n",
        "  percentual = (valor / total_valores) * 100 #uma conta simples de porcentagem\n",
        "  print('O percentual de {} é de {:.2f}%'.format(estado, percentual))"
      ],
      "metadata": {
        "id": "j-HwQM09TySL"
      },
      "execution_count": null,
      "outputs": []
    },
    {
      "cell_type": "markdown",
      "source": [
        "5) Escreva um programa que inverta os caracteres de um string.\n",
        "\n",
        "IMPORTANTE:\n",
        "a) Essa string pode ser informada através de qualquer entrada de sua preferência ou pode ser previamente definida no código;\n",
        "b) Evite usar funções prontas, como, por exemplo, reverse;\n",
        "\n"
      ],
      "metadata": {
        "id": "vYMvVhDlVbde"
      }
    },
    {
      "cell_type": "code",
      "source": [
        "try:\n",
        "  texto = str(input('Escreva um texto: '))\n",
        "except ValueError:\n",
        "  print('Você não digitou um valor válido')"
      ],
      "metadata": {
        "colab": {
          "base_uri": "https://localhost:8080/"
        },
        "id": "r1D1hl_AVcwi",
        "outputId": "9f272800-5485-4144-b1f1-2dbec8309e63"
      },
      "execution_count": 51,
      "outputs": [
        {
          "name": "stdout",
          "output_type": "stream",
          "text": [
            "Escreva um texto: LUan\n"
          ]
        }
      ]
    },
    {
      "cell_type": "code",
      "source": [
        "texto_invertido = texto[::-1] #uma forma de inverter um texto sem usar o reverse()\n",
        "print(f'O texto {texto} invertido fica {texto_invertido}')"
      ],
      "metadata": {
        "colab": {
          "base_uri": "https://localhost:8080/"
        },
        "id": "uzhhML3hWKJz",
        "outputId": "44bb2263-deda-46a6-e35c-ad40f6ad5f9d"
      },
      "execution_count": 52,
      "outputs": [
        {
          "output_type": "stream",
          "name": "stdout",
          "text": [
            "O texto LUan invertido fica naUL\n"
          ]
        }
      ]
    }
  ]
}